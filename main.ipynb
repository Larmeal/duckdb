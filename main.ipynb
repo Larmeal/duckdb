{
 "cells": [
  {
   "cell_type": "code",
   "execution_count": 2,
   "id": "88034adc",
   "metadata": {},
   "outputs": [],
   "source": [
    "import duckdb"
   ]
  },
  {
   "cell_type": "code",
   "execution_count": 3,
   "id": "57854ca4",
   "metadata": {},
   "outputs": [
    {
     "data": {
      "text/plain": [
       "duckdb.duckdb.DuckDBPyRelation"
      ]
     },
     "execution_count": 3,
     "metadata": {},
     "output_type": "execute_result"
    }
   ],
   "source": [
    "# con = duckdb.connect(\"database/test.db\")\n",
    "duck_df = duckdb.read_csv(\"data/athens_data.csv\")\n",
    "type(duck_df)"
   ]
  },
  {
   "cell_type": "code",
   "execution_count": 4,
   "id": "a8e7ba4f",
   "metadata": {},
   "outputs": [
    {
     "data": {
      "text/plain": [
       "<duckdb.duckdb.DuckDBPyConnection at 0x285600c4bf0>"
      ]
     },
     "execution_count": 4,
     "metadata": {},
     "output_type": "execute_result"
    }
   ],
   "source": [
    "duckdb.execute(\n",
    "    \"\"\"\n",
    "        PRAGMA enable_profiling;\n",
    "        -- PRAGMA enable_profiling = 'query_tree';\n",
    "        -- PRAGMA profiling_output = './profiling.json';\n",
    "\n",
    "    \"\"\"\n",
    ")"
   ]
  },
  {
   "cell_type": "code",
   "execution_count": 5,
   "id": "8a5561bb",
   "metadata": {},
   "outputs": [],
   "source": [
    "# duckdb.sql(\"SELECT current_setting('profiling_output')\")"
   ]
  },
  {
   "cell_type": "code",
   "execution_count": 6,
   "id": "22d75de5",
   "metadata": {},
   "outputs": [
    {
     "data": {
      "text/plain": [
       "[]"
      ]
     },
     "execution_count": 6,
     "metadata": {},
     "output_type": "execute_result"
    }
   ],
   "source": [
    "duckdb.execute(\"PRAGMA show_tables;\").fetchall()"
   ]
  },
  {
   "cell_type": "code",
   "execution_count": 20,
   "id": "9edb376d",
   "metadata": {},
   "outputs": [
    {
     "data": {
      "text/plain": [
       "┌─────────────────────┬──────────────────────────────┬────────────────────┬───────────────────┐\n",
       "│        date         │         station_name         │        temp        │       pm2_5       │\n",
       "│      timestamp      │           varchar            │       double       │      double       │\n",
       "├─────────────────────┼──────────────────────────────┼────────────────────┼───────────────────┤\n",
       "│ 2021-01-08 00:00:00 │ PANACEA_001                  │ 10.000026105949011 │              34.0 │\n",
       "│ 2021-01-25 23:00:00 │ PANACEA_000                  │ 10.000708271896553 │            8.1875 │\n",
       "│ 2021-01-26 21:00:00 │ Athens CAMS station 1        │ 10.000905261684789 │         2.1124547 │\n",
       "│ 2021-01-25 23:00:00 │ CleanAir in Greece - Thiseio │ 10.000995675604765 │ 8.657692307692308 │\n",
       "│ 2021-01-29 19:00:00 │ PARASKEVI                    │ 10.001125804259836 │               8.0 │\n",
       "└─────────────────────┴──────────────────────────────┴────────────────────┴───────────────────┘"
      ]
     },
     "execution_count": 20,
     "metadata": {},
     "output_type": "execute_result"
    }
   ],
   "source": [
    "# %%timeit\n",
    "duckdb.sql(\n",
    "    \"\"\"\n",
    "        SELECT \n",
    "            Date AS date,\n",
    "            station_name, \n",
    "            Temp AS temp, \n",
    "            \"PM2.5\" AS pm2_5,\n",
    "        FROM duck_df \n",
    "        WHERE \n",
    "            Temp BETWEEN 10 AND 12\n",
    "            AND Date BETWEEN DATE '2021-01-01' AND DATE '2021-01-31'\n",
    "        ORDER BY Temp\n",
    "        LIMIT 5\n",
    "    \"\"\"\n",
    ")"
   ]
  },
  {
   "cell_type": "code",
   "execution_count": null,
   "id": "85d44611",
   "metadata": {},
   "outputs": [],
   "source": []
  }
 ],
 "metadata": {
  "kernelspec": {
   "display_name": "duckdb",
   "language": "python",
   "name": "python3"
  },
  "language_info": {
   "codemirror_mode": {
    "name": "ipython",
    "version": 3
   },
   "file_extension": ".py",
   "mimetype": "text/x-python",
   "name": "python",
   "nbconvert_exporter": "python",
   "pygments_lexer": "ipython3",
   "version": "3.12.3"
  }
 },
 "nbformat": 4,
 "nbformat_minor": 5
}
