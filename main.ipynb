{
 "cells": [
  {
   "cell_type": "code",
   "execution_count": 2,
   "id": "88034adc",
   "metadata": {},
   "outputs": [],
   "source": [
    "import duckdb"
   ]
  },
  {
   "cell_type": "markdown",
   "id": "d2e1de08",
   "metadata": {},
   "source": [
    "### Enable Advance Profiling"
   ]
  },
  {
   "cell_type": "code",
   "execution_count": 6,
   "id": "44097070",
   "metadata": {},
   "outputs": [
    {
     "data": {
      "text/plain": [
       "<duckdb.duckdb.DuckDBPyConnection at 0x278b6a86770>"
      ]
     },
     "execution_count": 6,
     "metadata": {},
     "output_type": "execute_result"
    }
   ],
   "source": [
    "duckdb.execute(\n",
    "    \"\"\"\n",
    "        -- PRAGMA disable_profiling\n",
    "        PRAGMA enable_profiling = 'query_tree';\n",
    "        -- PRAGMA profiling_output = './profiling.txt';\n",
    "    \"\"\"\n",
    ")\n",
    "\n",
    "## Display the profiling out\n",
    "# duckdb.sql(\"SELECT current_setting('profiling_output')\")"
   ]
  },
  {
   "cell_type": "markdown",
   "id": "7e1a497d",
   "metadata": {},
   "source": [
    "# 3. DuckDB with Python API "
   ]
  },
  {
   "cell_type": "markdown",
   "id": "59a6a32d",
   "metadata": {},
   "source": [
    "## 3.2 Import Data"
   ]
  },
  {
   "cell_type": "markdown",
   "id": "0d6ecc17",
   "metadata": {},
   "source": [
    "### Import Data from CSV"
   ]
  },
  {
   "cell_type": "code",
   "execution_count": 3,
   "id": "57854ca4",
   "metadata": {},
   "outputs": [
    {
     "data": {
      "text/plain": [
       "duckdb.duckdb.DuckDBPyRelation"
      ]
     },
     "execution_count": 3,
     "metadata": {},
     "output_type": "execute_result"
    }
   ],
   "source": [
    "duck_df = duckdb.read_csv(\"data/athens_data.csv\")\n",
    "type(duck_df)"
   ]
  },
  {
   "cell_type": "markdown",
   "id": "53342cce",
   "metadata": {},
   "source": [
    "## 3.3 Basic Query Syntax\n"
   ]
  },
  {
   "cell_type": "markdown",
   "id": "ce24e848",
   "metadata": {},
   "source": [
    "### Transform Data"
   ]
  },
  {
   "cell_type": "markdown",
   "id": "92deed10",
   "metadata": {},
   "source": [
    "#### SQL Expression"
   ]
  },
  {
   "cell_type": "code",
   "execution_count": 12,
   "id": "9edb376d",
   "metadata": {},
   "outputs": [
    {
     "data": {
      "text/plain": [
       "┌─────────────────────┬──────────────────────────────┬────────────────────┬───────────────────┐\n",
       "│        date         │         station_name         │        temp        │       pm2_5       │\n",
       "│      timestamp      │           varchar            │       double       │      double       │\n",
       "├─────────────────────┼──────────────────────────────┼────────────────────┼───────────────────┤\n",
       "│ 2021-01-08 00:00:00 │ PANACEA_001                  │ 10.000026105949011 │              34.0 │\n",
       "│ 2021-01-25 23:00:00 │ PANACEA_000                  │ 10.000708271896553 │            8.1875 │\n",
       "│ 2021-01-26 21:00:00 │ Athens CAMS station 1        │ 10.000905261684789 │         2.1124547 │\n",
       "│ 2021-01-25 23:00:00 │ CleanAir in Greece - Thiseio │ 10.000995675604765 │ 8.657692307692308 │\n",
       "│ 2021-01-29 19:00:00 │ PARASKEVI                    │ 10.001125804259836 │               8.0 │\n",
       "└─────────────────────┴──────────────────────────────┴────────────────────┴───────────────────┘"
      ]
     },
     "execution_count": 12,
     "metadata": {},
     "output_type": "execute_result"
    }
   ],
   "source": [
    "# %%timeit\n",
    "duckdb.sql(\n",
    "    \"\"\"\n",
    "        SELECT \n",
    "            Date AS date,\n",
    "            station_name, \n",
    "            Temp AS temp, \n",
    "            \"PM2.5\" AS pm2_5,\n",
    "        FROM duck_df \n",
    "        WHERE \n",
    "            Temp BETWEEN 10 AND 12\n",
    "            AND Date BETWEEN DATE '2021-01-01' AND DATE '2021-01-31'\n",
    "        ORDER BY Temp\n",
    "        LIMIT 5\n",
    "    \"\"\"\n",
    ")"
   ]
  },
  {
   "cell_type": "markdown",
   "id": "bd14d87d",
   "metadata": {},
   "source": [
    "#### Method Chaining"
   ]
  },
  {
   "cell_type": "code",
   "execution_count": null,
   "id": "85d44611",
   "metadata": {},
   "outputs": [
    {
     "data": {
      "text/plain": [
       "┌─────────────────────┬──────────────────────────────┬────────────────────┬───────────────────┐\n",
       "│        date         │         station_name         │        temp        │       pm2_5       │\n",
       "│      timestamp      │           varchar            │       double       │      double       │\n",
       "├─────────────────────┼──────────────────────────────┼────────────────────┼───────────────────┤\n",
       "│ 2021-01-08 00:00:00 │ PANACEA_001                  │ 10.000026105949011 │              34.0 │\n",
       "│ 2021-01-25 23:00:00 │ PANACEA_000                  │ 10.000708271896553 │            8.1875 │\n",
       "│ 2021-01-26 21:00:00 │ Athens CAMS station 1        │ 10.000905261684789 │         2.1124547 │\n",
       "│ 2021-01-25 23:00:00 │ CleanAir in Greece - Thiseio │ 10.000995675604765 │ 8.657692307692308 │\n",
       "│ 2021-01-29 19:00:00 │ PARASKEVI                    │ 10.001125804259836 │               8.0 │\n",
       "└─────────────────────┴──────────────────────────────┴────────────────────┴───────────────────┘"
      ]
     },
     "execution_count": 13,
     "metadata": {},
     "output_type": "execute_result"
    }
   ],
   "source": [
    "duck_df.select(\n",
    "    \"\"\"\n",
    "                Date AS date, station_name, \n",
    "                Temp AS temp, \"PM2.5\" AS pm2_5,\n",
    "            \"\"\"\n",
    ").filter(\n",
    "    \"Temp BETWEEN 10 AND 12AND Date BETWEEN DATE '2021-01-01' AND DATE '2021-01-31'\"\n",
    ").order(\"Temp\").limit(5)"
   ]
  },
  {
   "cell_type": "markdown",
   "id": "80734111",
   "metadata": {},
   "source": [
    "## 3.4 Export Data"
   ]
  },
  {
   "cell_type": "code",
   "execution_count": 20,
   "id": "efc8f4ed",
   "metadata": {},
   "outputs": [],
   "source": [
    "duck_sql = duckdb.sql(\n",
    "    \"\"\"\n",
    "        SELECT \n",
    "            Date AS date,\n",
    "            station_name, \n",
    "            Temp AS temp, \n",
    "            \"PM2.5\" AS pm2_5,\n",
    "        FROM duck_df \n",
    "        WHERE \n",
    "            Temp BETWEEN 10 AND 12\n",
    "            AND Date BETWEEN DATE '2021-01-01' AND DATE '2021-01-31'\n",
    "        ORDER BY Temp\n",
    "        LIMIT 5\n",
    "    \"\"\"\n",
    ")"
   ]
  },
  {
   "cell_type": "markdown",
   "id": "0d0ef419",
   "metadata": {},
   "source": [
    "#### DuckDB Native Function"
   ]
  },
  {
   "cell_type": "code",
   "execution_count": null,
   "id": "8810872a",
   "metadata": {},
   "outputs": [],
   "source": [
    "duckdb.sql(\"COPY duck_sql TO 'output/temp_data_db.csv' (HEADER, DELIMITER ',');\")"
   ]
  },
  {
   "cell_type": "markdown",
   "id": "3db01327",
   "metadata": {},
   "source": [
    "#### DuckDB to Pandas DataFrame"
   ]
  },
  {
   "cell_type": "code",
   "execution_count": 23,
   "id": "15873cbd",
   "metadata": {},
   "outputs": [],
   "source": [
    "duck_sql.df().to_csv(\"output/temp_data_pd.csv\", sep=\",\")"
   ]
  },
  {
   "cell_type": "markdown",
   "id": "a533ddec",
   "metadata": {},
   "source": [
    "# 2. Why DuckDB is so Fast?"
   ]
  },
  {
   "cell_type": "markdown",
   "id": "f5b19db6",
   "metadata": {},
   "source": [
    "### 2.3 Parallel Execution"
   ]
  },
  {
   "cell_type": "code",
   "execution_count": 10,
   "id": "5d470b88",
   "metadata": {},
   "outputs": [
    {
     "data": {
      "text/plain": [
       "┌────────────────────────────┐\n",
       "│ current_setting('threads') │\n",
       "│           int64            │\n",
       "├────────────────────────────┤\n",
       "│                         16 │\n",
       "└────────────────────────────┘"
      ]
     },
     "execution_count": 10,
     "metadata": {},
     "output_type": "execute_result"
    }
   ],
   "source": [
    "# Default my PC: 16 Threads - 10 Cores\n",
    "duckdb.sql(\"SET threads = 16\")\n",
    "duckdb.sql(\"SELECT current_setting('threads')\")"
   ]
  },
  {
   "cell_type": "code",
   "execution_count": 12,
   "id": "5eeb8b45",
   "metadata": {},
   "outputs": [
    {
     "name": "stdout",
     "output_type": "stream",
     "text": [
      "782 ms ± 8.86 ms per loop (mean ± std. dev. of 7 runs, 1 loop each)\n"
     ]
    }
   ],
   "source": [
    "%%timeit\n",
    "duckdb.sql(\n",
    "    \"\"\"\n",
    "        SELECT \n",
    "            *\n",
    "        FROM duck_df\n",
    "    \"\"\"\n",
    ").df()"
   ]
  },
  {
   "cell_type": "code",
   "execution_count": 13,
   "id": "e4d11fb9",
   "metadata": {},
   "outputs": [
    {
     "data": {
      "text/plain": [
       "┌────────────────────────────┐\n",
       "│ current_setting('threads') │\n",
       "│           int64            │\n",
       "├────────────────────────────┤\n",
       "│                          1 │\n",
       "└────────────────────────────┘"
      ]
     },
     "execution_count": 13,
     "metadata": {},
     "output_type": "execute_result"
    }
   ],
   "source": [
    "duckdb.sql(\"SET threads = 1\")\n",
    "duckdb.sql(\"SELECT current_setting('threads')\")"
   ]
  },
  {
   "cell_type": "code",
   "execution_count": 14,
   "id": "c4116033",
   "metadata": {},
   "outputs": [
    {
     "name": "stdout",
     "output_type": "stream",
     "text": [
      "1.97 s ± 22.2 ms per loop (mean ± std. dev. of 7 runs, 1 loop each)\n"
     ]
    }
   ],
   "source": [
    "%%timeit\n",
    "duckdb.sql(\n",
    "    \"\"\"\n",
    "        SELECT \n",
    "            *\n",
    "        FROM duck_df\n",
    "    \"\"\"\n",
    ").df()"
   ]
  },
  {
   "cell_type": "markdown",
   "id": "3776c91e",
   "metadata": {},
   "source": [
    "### 2.4 Late Materialization"
   ]
  },
  {
   "cell_type": "code",
   "execution_count": null,
   "id": "566593c3",
   "metadata": {},
   "outputs": [
    {
     "name": "stdout",
     "output_type": "stream",
     "text": [
      "┌─────────────────────────────────────┐\n",
      "│┌───────────────────────────────────┐│\n",
      "││    Query Profiling Information    ││\n",
      "│└───────────────────────────────────┘│\n",
      "└─────────────────────────────────────┘\n",
      "\n",
      "┌─────────────────────────────────────┐\n",
      "│┌───────────────────────────────────┐│\n",
      "││         Total Time: 0.237s        ││\n",
      "│└───────────────────────────────────┘│\n",
      "└─────────────────────────────────────┘\n",
      "┌───────────────────────────┐\n",
      "│      RESULT_COLLECTOR     │\n",
      "│   ─ ─ ─ ─ ─ ─ ─ ─ ─ ─ ─   │\n",
      "│             0             │\n",
      "│          (0.00s)          │\n",
      "└─────────────┬─────────────┘                             \n",
      "┌─────────────┴─────────────┐\n",
      "│      EXPLAIN_ANALYZE      │\n",
      "│   ─ ─ ─ ─ ─ ─ ─ ─ ─ ─ ─   │\n",
      "│             0             │\n",
      "│          (0.00s)          │\n",
      "└─────────────┬─────────────┘                             \n",
      "┌─────────────┴─────────────┐\n",
      "│           TOP_N           │\n",
      "│   ─ ─ ─ ─ ─ ─ ─ ─ ─ ─ ─   │\n",
      "│           Top 5           │\n",
      "│   ─ ─ ─ ─ ─ ─ ─ ─ ─ ─ ─   │\n",
      "│     duck_df.\"Temp\" ASC    │\n",
      "│   ─ ─ ─ ─ ─ ─ ─ ─ ─ ─ ─   │\n",
      "│             5             │\n",
      "│          (0.01s)          │\n",
      "└─────────────┬─────────────┘                             \n",
      "┌─────────────┴─────────────┐\n",
      "│         PROJECTION        │\n",
      "│   ─ ─ ─ ─ ─ ─ ─ ─ ─ ─ ─   │\n",
      "│        station_name       │\n",
      "│            Temp           │\n",
      "│           PM2.5           │\n",
      "│   ─ ─ ─ ─ ─ ─ ─ ─ ─ ─ ─   │\n",
      "│           46144           │\n",
      "│          (0.00s)          │\n",
      "└─────────────┬─────────────┘                             \n",
      "┌─────────────┴─────────────┐\n",
      "│           FILTER          │\n",
      "│   ─ ─ ─ ─ ─ ─ ─ ─ ─ ─ ─   │\n",
      "│ (Date BETWEEN '2021-01-01 │\n",
      "│  00:00:00'::TIMESTAMP AND │\n",
      "│   '2021-01-31 00:00:00':  │\n",
      "│        :TIMESTAMP)        │\n",
      "│   ─ ─ ─ ─ ─ ─ ─ ─ ─ ─ ─   │\n",
      "│           EC: 8           │\n",
      "│   ─ ─ ─ ─ ─ ─ ─ ─ ─ ─ ─   │\n",
      "│           46144           │\n",
      "│          (0.01s)          │\n",
      "└─────────────┬─────────────┘                             \n",
      "┌─────────────┴─────────────┐\n",
      "│       READ_CSV_AUTO       │\n",
      "│   ─ ─ ─ ─ ─ ─ ─ ─ ─ ─ ─   │\n",
      "│            Date           │\n",
      "│        station_name       │\n",
      "│            Temp           │\n",
      "│           PM2.5           │\n",
      "│   ─ ─ ─ ─ ─ ─ ─ ─ ─ ─ ─   │\n",
      "│           EC: 42          │\n",
      "│   ─ ─ ─ ─ ─ ─ ─ ─ ─ ─ ─   │\n",
      "│          1726464          │\n",
      "│          (2.94s)          │\n",
      "└───────────────────────────┘                             \n",
      "\n",
      "\n"
     ]
    }
   ],
   "source": [
    "print(\n",
    "    duckdb.sql(\n",
    "        \"\"\"\n",
    "        SELECT\n",
    "            station_name, \n",
    "            Temp AS temp, \n",
    "            \"PM2.5\" AS pm2_5,\n",
    "        FROM duck_df \n",
    "        WHERE \n",
    "            Date BETWEEN DATE '2021-01-01' AND DATE '2021-01-31'\n",
    "        ORDER BY Temp\n",
    "        LIMIT 5\n",
    "    \"\"\"\n",
    "    ).explain(\"analyze\")\n",
    ")"
   ]
  },
  {
   "cell_type": "code",
   "execution_count": 17,
   "id": "893f2090",
   "metadata": {},
   "outputs": [],
   "source": [
    "duck_parquet = duckdb.read_parquet(\"output.parquet\")"
   ]
  },
  {
   "cell_type": "code",
   "execution_count": null,
   "id": "ffc8ca55",
   "metadata": {},
   "outputs": [
    {
     "name": "stdout",
     "output_type": "stream",
     "text": [
      "┌─────────────────────────────────────┐\n",
      "│┌───────────────────────────────────┐│\n",
      "││    Query Profiling Information    ││\n",
      "│└───────────────────────────────────┘│\n",
      "└─────────────────────────────────────┘\n",
      "\n",
      "┌─────────────────────────────────────┐\n",
      "│┌───────────────────────────────────┐│\n",
      "││        Total Time: 0.0097s        ││\n",
      "│└───────────────────────────────────┘│\n",
      "└─────────────────────────────────────┘\n",
      "┌───────────────────────────┐\n",
      "│      RESULT_COLLECTOR     │\n",
      "│   ─ ─ ─ ─ ─ ─ ─ ─ ─ ─ ─   │\n",
      "│             0             │\n",
      "│          (0.00s)          │\n",
      "└─────────────┬─────────────┘                             \n",
      "┌─────────────┴─────────────┐\n",
      "│      EXPLAIN_ANALYZE      │\n",
      "│   ─ ─ ─ ─ ─ ─ ─ ─ ─ ─ ─   │\n",
      "│             0             │\n",
      "│          (0.00s)          │\n",
      "└─────────────┬─────────────┘                             \n",
      "┌─────────────┴─────────────┐\n",
      "│           TOP_N           │\n",
      "│   ─ ─ ─ ─ ─ ─ ─ ─ ─ ─ ─   │\n",
      "│           Top 5           │\n",
      "│   ─ ─ ─ ─ ─ ─ ─ ─ ─ ─ ─   │\n",
      "│  duck_parquet.\"Temp\" ASC  │\n",
      "│   ─ ─ ─ ─ ─ ─ ─ ─ ─ ─ ─   │\n",
      "│             5             │\n",
      "│          (0.00s)          │\n",
      "└─────────────┬─────────────┘                             \n",
      "┌─────────────┴─────────────┐\n",
      "│       PARQUET_SCAN        │\n",
      "│   ─ ─ ─ ─ ─ ─ ─ ─ ─ ─ ─   │\n",
      "│        station_name       │\n",
      "│            Temp           │\n",
      "│           PM2.5           │\n",
      "│   ─ ─ ─ ─ ─ ─ ─ ─ ─ ─ ─   │\n",
      "│ Filters: Date>='2021-01-01│\n",
      "│  00:00:00'::TIMESTAMP AND │\n",
      "│ Date<='2021-01-31 00:...  │\n",
      "│ :TIMESTAMP AND Date IS NOT│\n",
      "│            NULL           │\n",
      "│   ─ ─ ─ ─ ─ ─ ─ ─ ─ ─ ─   │\n",
      "│         EC: 345292        │\n",
      "│   ─ ─ ─ ─ ─ ─ ─ ─ ─ ─ ─   │\n",
      "│           46144           │\n",
      "│          (0.01s)          │\n",
      "└───────────────────────────┘                             \n",
      "\n",
      "\n"
     ]
    }
   ],
   "source": [
    "print(\n",
    "    duckdb.sql(\n",
    "        \"\"\"\n",
    "        SELECT\n",
    "            station_name, \n",
    "            Temp AS temp, \n",
    "            \"PM2.5\" AS pm2_5,\n",
    "        FROM duck_parquet \n",
    "        WHERE \n",
    "            Date BETWEEN DATE '2021-01-01' AND DATE '2021-01-31'\n",
    "        ORDER BY Temp\n",
    "        LIMIT 5\n",
    "    \"\"\"\n",
    "    ).explain(\"analyze\")\n",
    ")"
   ]
  },
  {
   "cell_type": "code",
   "execution_count": null,
   "id": "32db134e",
   "metadata": {},
   "outputs": [],
   "source": []
  }
 ],
 "metadata": {
  "kernelspec": {
   "display_name": "duckdb",
   "language": "python",
   "name": "python3"
  },
  "language_info": {
   "codemirror_mode": {
    "name": "ipython",
    "version": 3
   },
   "file_extension": ".py",
   "mimetype": "text/x-python",
   "name": "python",
   "nbconvert_exporter": "python",
   "pygments_lexer": "ipython3",
   "version": "3.12.3"
  }
 },
 "nbformat": 4,
 "nbformat_minor": 5
}
